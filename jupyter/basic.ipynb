{
 "cells": [
  {
   "cell_type": "code",
   "execution_count": 7,
   "id": "27e70a6e-04f5-463e-bbc4-ee4aef058086",
   "metadata": {},
   "outputs": [
    {
     "name": "stdout",
     "output_type": "stream",
     "text": [
      "Access token is available in .txt File\n"
     ]
    }
   ],
   "source": [
    "from fyers_apiv3 import fyersModel\n",
    "from fyers_api import accessToken\n",
    "import pandas as pd\n",
    "import os\n",
    "client_id = \"TNRLEAR9UP-100\"\n",
    "is_token = False\n",
    "content = \"\"\n",
    "if os.path.exists(\"access_token.txt\"):\n",
    "    with open(\"access_token.txt\",\"r\") as fp:\n",
    "        access_token = fp.read()\n",
    "        print(\"Access token is available in .txt File\")\n",
    "        if access_token:\n",
    "            is_token = True\n",
    "if is_token==False:\n",
    "    print(\"Token not available\")\n",
    "    from fyers_api import accessToken,fyersModel\n",
    "    client_id = \"TNRLEAR9UP-100\"\n",
    "    secret_key = \"VCFFWC2WIA\"\n",
    "    redirect_uri = \"https://www.elevenunit.com/\"\n",
    "    response_type = \"code\"\n",
    "    state = \"sample_state\"\n",
    "    grant_type=\"authorization_code\"\n",
    "    \n",
    "    session=accessToken.SessionModel(\n",
    "        client_id=client_id,\n",
    "        secret_key=secret_key,\n",
    "        redirect_uri=redirect_uri, \n",
    "        response_type=response_type,\n",
    "        grant_type=grant_type\n",
    "    )\n",
    "    \n",
    "    response = session.generate_authcode()\n",
    "    print(\"Login URL::\",response)\n",
    "    \n",
    "    auth_code = input(\"Enter auth code\")\n",
    "    session.set_token(auth_code)\n",
    "    print(session)\n",
    "    \n",
    "    response = session.generate_token()\n",
    "    print(response)\n",
    "\n",
    "    \n",
    "    access_token = response['access_token']\n",
    "    with open(\"access_token.txt\",\"w\") as f:\n",
    "        f.write(access_token)\n"
   ]
  },
  {
   "cell_type": "code",
   "execution_count": 8,
   "id": "e531cb29-8e3e-4aa0-9bf3-76433d6be19b",
   "metadata": {},
   "outputs": [],
   "source": [
    "fyers = fyersModel.FyersModel(client_id=client_id, token=access_token)"
   ]
  },
  {
   "cell_type": "code",
   "execution_count": 9,
   "id": "b166d0e9-c4be-4ef0-a1d9-98aa3b73791d",
   "metadata": {},
   "outputs": [
    {
     "name": "stdout",
     "output_type": "stream",
     "text": [
      "Start Date: 2022-04-08\n",
      "End Date  : 2023-04-07\n"
     ]
    }
   ],
   "source": [
    "from datetime import datetime,timedelta\n",
    "### present date\n",
    "today_timestamp = datetime.now()\n",
    "curr_date = today_timestamp.strftime(\"%Y-%m-%d\")\n",
    "\n",
    "#previous date\n",
    "prev_date = today_timestamp - timedelta(days = 611)\n",
    "prev_date = prev_date.strftime(\"%Y-%m-%d\")\n",
    "curr_date = today_timestamp - timedelta(days=247)\n",
    "curr_date = curr_date.strftime(\"%Y-%m-%d\")\n",
    "print(\"Start Date:\",prev_date)\n",
    "print(\"End Date  :\",curr_date)"
   ]
  },
  {
   "cell_type": "code",
   "execution_count": 11,
   "id": "bcae5287-9966-4986-b761-6805fc636fb1",
   "metadata": {},
   "outputs": [],
   "source": [
    "# https://api-docs.fyers.in/docs/index.html#tag/Data-Api/paths/~1DataApi/post\n",
    "symbol=\"NSE:SBIN-EQ\"\n",
    "# symbol=\"NSE:NIFTY50-INDEX\"\n",
    "data = {\"symbol\":symbol,\"resolution\":\"D\",\"date_format\":\"1\",\"range_from\":prev_date,\"range_to\":curr_date,\"cont_flag\":\"1\"}\n",
    "data = fyers.history(data)\n"
   ]
  },
  {
   "cell_type": "code",
   "execution_count": 14,
   "id": "25655bcd-9425-4df4-ba32-0562e2ba2da7",
   "metadata": {},
   "outputs": [
    {
     "ename": "AttributeError",
     "evalue": "'dict' object has no attribute 'candles'",
     "output_type": "error",
     "traceback": [
      "\u001b[1;31m---------------------------------------------------------------------------\u001b[0m",
      "\u001b[1;31mAttributeError\u001b[0m                            Traceback (most recent call last)",
      "Cell \u001b[1;32mIn[14], line 5\u001b[0m\n\u001b[0;32m      3\u001b[0m data \u001b[38;5;241m=\u001b[39m {\u001b[38;5;124m\"\u001b[39m\u001b[38;5;124msymbol\u001b[39m\u001b[38;5;124m\"\u001b[39m:symbol,\u001b[38;5;124m\"\u001b[39m\u001b[38;5;124mresolution\u001b[39m\u001b[38;5;124m\"\u001b[39m:\u001b[38;5;124m\"\u001b[39m\u001b[38;5;124mD\u001b[39m\u001b[38;5;124m\"\u001b[39m,\u001b[38;5;124m\"\u001b[39m\u001b[38;5;124mdate_format\u001b[39m\u001b[38;5;124m\"\u001b[39m:\u001b[38;5;124m\"\u001b[39m\u001b[38;5;124m1\u001b[39m\u001b[38;5;124m\"\u001b[39m,\u001b[38;5;124m\"\u001b[39m\u001b[38;5;124mrange_from\u001b[39m\u001b[38;5;124m\"\u001b[39m:prev_date,\u001b[38;5;124m\"\u001b[39m\u001b[38;5;124mrange_to\u001b[39m\u001b[38;5;124m\"\u001b[39m:curr_date,\u001b[38;5;124m\"\u001b[39m\u001b[38;5;124mcont_flag\u001b[39m\u001b[38;5;124m\"\u001b[39m:\u001b[38;5;124m\"\u001b[39m\u001b[38;5;124m1\u001b[39m\u001b[38;5;124m\"\u001b[39m}\n\u001b[0;32m      4\u001b[0m response \u001b[38;5;241m=\u001b[39m fyers\u001b[38;5;241m.\u001b[39mhistory(data\u001b[38;5;241m=\u001b[39mdata)\n\u001b[1;32m----> 5\u001b[0m df \u001b[38;5;241m=\u001b[39m pd\u001b[38;5;241m.\u001b[39mDataFrame(\u001b[43mresponse\u001b[49m\u001b[38;5;241;43m.\u001b[39;49m\u001b[43mcandles\u001b[49m)\n\u001b[0;32m      6\u001b[0m display(df)\n",
      "\u001b[1;31mAttributeError\u001b[0m: 'dict' object has no attribute 'candles'"
     ]
    }
   ],
   "source": [
    "fyers = fyersModel.FyersModel(client_id=client_id, is_async=False, token=access_token, log_path=\"\")\n",
    "symbol=\"NSE:SBIN-EQ\"\n",
    "data = {\"symbol\":symbol,\"resolution\":\"D\",\"date_format\":\"1\",\"range_from\":prev_date,\"range_to\":curr_date,\"cont_flag\":\"1\"}\n",
    "response = fyers.history(data=data)\n",
    "if response['s']!='ok':\n",
    "    print(\"Error is accessing data\")\n",
    "else:\n",
    "    print(\"Congratulation!! you got the data\")"
   ]
  },
  {
   "cell_type": "code",
   "execution_count": null,
   "id": "82808f5d-1eb4-4a84-9822-a074af486b60",
   "metadata": {},
   "outputs": [],
   "source": []
  },
  {
   "cell_type": "code",
   "execution_count": null,
   "id": "abc322a2-c1f0-4f81-84cd-d846ba99e02e",
   "metadata": {},
   "outputs": [],
   "source": []
  }
 ],
 "metadata": {
  "kernelspec": {
   "display_name": "Python 3 (ipykernel)",
   "language": "python",
   "name": "python3"
  },
  "language_info": {
   "codemirror_mode": {
    "name": "ipython",
    "version": 3
   },
   "file_extension": ".py",
   "mimetype": "text/x-python",
   "name": "python",
   "nbconvert_exporter": "python",
   "pygments_lexer": "ipython3",
   "version": "3.10.7"
  }
 },
 "nbformat": 4,
 "nbformat_minor": 5
}
